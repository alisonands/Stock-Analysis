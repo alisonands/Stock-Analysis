{
 "cells": [
  {
   "cell_type": "markdown",
   "metadata": {},
   "source": [
    "## Visualizations\n",
    "1. Which stocks are best performing in there respective sectors? (Sourav)\n",
    "    - Closing price (Line chart, 4 graphs (top performing stock per industry))\n",
    "2. What is the allocation of portfolio for each sector? (Sakina)\n",
    "    - Volume (% total volume Pie chart, sectors) (4 pie charts)\n",
    "3. What was the correlation between different sectors? (Kunal)\n",
    "    - correlation (closing prices, between sectors)\n",
    "4. Which sector has the best moving average in there respective industry? (Alison)\n",
    "    - Grouped bargraph: price values per sector (xlabel: sectors) --> moving average (1 graph)\n",
    "5. Which ticker was most traded in each year? ()\n",
    "    - Answered by bar graph(name of stocks in each sector as xticks and height of the bar will be the average of volume)\n",
    "6. Which year performed the worst/best? (Sourav)\n",
    "    - Best performing stock per sector, compare over all sectors (Bar graph) --> x: year, y: price change ((open-close)/close * 100)\n",
    "7. How stocks performed over each sector for each year?\n",
    "    - Best performing stock per sector, compare over all sectors (Bar graph) --> x: year, y: volume (16 graphs total, 4 per year for each sector)\n",
    "- compare industries btwn sectors (4x4)\n",
    "- highest % change per month comparison"
   ]
  },
  {
   "cell_type": "markdown",
   "metadata": {},
   "source": []
  }
 ],
 "metadata": {
  "language_info": {
   "name": "python"
  }
 },
 "nbformat": 4,
 "nbformat_minor": 2
}
