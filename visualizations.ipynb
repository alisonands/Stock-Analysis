{
 "cells": [
  {
   "cell_type": "markdown",
   "metadata": {},
   "source": [
    "# Graphs\n",
    "1. Which stocks are best performing in there respective sectors?\n",
    "    - Closing price (Line chart, 4 graphs (top performing stock per industry))\n",
    "2. What is the allocation of portfolio for each sector? \n",
    "    - Volume (% total volume Pie chart, industry)\n",
    "3. What was the correlation between different sectors?\n",
    "    - correlation (open prices, between sectors)\n",
    "4. Which sector has the best moving average in there respective industry?\n",
    "    - Grouped bargraph: price values per sector (xlabel: sectors) --> moving average (1 graph)\n",
    "\n",
    "5. compare close price and volume (for industries with most correlation)\n",
    "6. compare industries btwn sectors (4x4)\n",
    "7. highest % change per month comparison\n",
    "8. Bargraph: group by year and by industry\n"
   ]
  }
 ],
 "metadata": {
  "language_info": {
   "name": "python"
  }
 },
 "nbformat": 4,
 "nbformat_minor": 2
}
