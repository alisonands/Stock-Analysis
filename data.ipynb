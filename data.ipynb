{
 "cells": [
  {
   "cell_type": "code",
   "execution_count": 2,
   "metadata": {},
   "outputs": [],
   "source": [
    "from alpha_vantage.timeseries import TimeSeries\n",
    "import matplotlib.pyplot as plt\n",
    "import sys\n",
    "import pandas as pd\n",
    "import requests\n",
    "api_key = 'DY6IA3QVWYE8T8KX'\n"
   ]
  },
  {
   "cell_type": "code",
   "execution_count": 3,
   "metadata": {},
   "outputs": [],
   "source": [
    "# define sectors\n",
    "sectors = {\n",
    "    'Semiconductors': ['NVDA', 'TSM', 'QCOM', 'AVGO', 'PHLX'],\n",
    "    'Software': ['UBER', 'CRM', 'ZI', 'SHOP', 'ADSK'],\n",
    "    'Consumer': ['AAPL', 'MSFT', 'SONY', 'LPL', 'SONO'],\n",
    "    'Infotech': ['ACN', 'IBM', 'INFY', 'WIT', 'SAIC']\n",
    "}\n",
    "sectors = pd.DataFrame(sectors)"
   ]
  },
  {
   "cell_type": "code",
   "execution_count": null,
   "metadata": {},
   "outputs": [
    {
     "name": "stdout",
     "output_type": "stream",
     "text": [
      "Gathering data for Semiconductors: NVDA\n",
      "Gathering data for Semiconductors: TSM\n",
      "Gathering data for Semiconductors: QCOM\n",
      "Gathering data for Semiconductors: AVGO\n",
      "Gathering data for Semiconductors: PHLX\n",
      "Company PHLX not found\n",
      "Gathering data for Software: UBER\n",
      "Gathering data for Software: CRM\n",
      "Gathering data for Software: ZI\n",
      "Gathering data for Software: SHOP\n",
      "Gathering data for Software: ADSK\n",
      "Gathering data for Consumer: AAPL\n",
      "Gathering data for Consumer: MSFT\n",
      "Gathering data for Consumer: SONY\n",
      "Gathering data for Consumer: LPL\n",
      "Gathering data for Consumer: SONO\n",
      "Gathering data for Infotech: ACN\n",
      "Gathering data for Infotech: IBM\n",
      "Gathering data for Infotech: INFY\n",
      "Gathering data for Infotech: WIT\n",
      "Company WIT not found\n",
      "Gathering data for Infotech: SAIC\n",
      "Company SAIC not found\n"
     ]
    }
   ],
   "source": [
    "all_data = []                                                                   # create an empty list to append to\n",
    "\n",
    "start_date = '2018-01-01'                                                       # create start and end dates\n",
    "\n",
    "end_date = '2023-12-04'\n",
    "\n",
    "for sector, companies in sectors.items():                                       # iterate over each sector\n",
    "    for ticker in companies:                                                    # iterate over each company in sector\n",
    "        try:\n",
    "            print (f'Gathering data for {sector}: {ticker}')\n",
    "            \n",
    "            ts = TimeSeries(key='DY6IA3QVWYE8T8KX', output_format='pandas')     # make api call\n",
    "            data, meta_data = ts.get_daily(symbol=ticker, outputsize='full')\n",
    "            data_df = pd.DataFrame(data)\n",
    "\n",
    "            data_df = data_df.sort_index()                                      # filter from start to end dates\n",
    "            filtered_data = pd.DataFrame(data_df.loc[start_date:end_date])\n",
    "\n",
    "            filtered_data[\"Ticker\"] = ticker                                    # add ticker column\n",
    "            filtered_data[\"Sector\"] = sector\n",
    "            all_data.append(filtered_data)\n",
    "        except:\n",
    "            print(f'Company {ticker} not found')"
   ]
  },
  {
   "cell_type": "code",
   "execution_count": null,
   "metadata": {},
   "outputs": [],
   "source": [
    "final_data = pd.concat(all_data)                        # Convert to dataframe\n",
    "final_data.to_csv('stock_data.csv', index=False)        # Save to csv"
   ]
  }
 ],
 "metadata": {
  "kernelspec": {
   "display_name": "base",
   "language": "python",
   "name": "python3"
  },
  "language_info": {
   "codemirror_mode": {
    "name": "ipython",
    "version": 3
   },
   "file_extension": ".py",
   "mimetype": "text/x-python",
   "name": "python",
   "nbconvert_exporter": "python",
   "pygments_lexer": "ipython3",
   "version": "3.11.5"
  }
 },
 "nbformat": 4,
 "nbformat_minor": 2
}
