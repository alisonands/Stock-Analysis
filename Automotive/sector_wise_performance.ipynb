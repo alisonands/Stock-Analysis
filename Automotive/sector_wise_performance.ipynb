{
 "cells": [
  {
   "cell_type": "code",
   "execution_count": 3,
   "id": "c6bc19da-29b5-4f3f-9f3d-59da1bf93d8c",
   "metadata": {},
   "outputs": [],
   "source": [
    "import pandas as pd\n",
    "import matplotlib.pyplot as plt"
   ]
  },
  {
   "cell_type": "code",
   "execution_count": 10,
   "id": "081ce760-0332-41db-888a-5e8106da47ab",
   "metadata": {},
   "outputs": [],
   "source": [
    "df1 = pd.read_csv(\"data_sets/final_auto_stock_data.csv\")\n",
    "df2 = pd.read_csv(\"data_sets/Financial_stock_data.csv\")\n",
    "df3 = pd.read_csv(\"data_sets/tech_data.csv\").drop(columns={'Unnamed: 0'})"
   ]
  },
  {
   "cell_type": "code",
   "execution_count": 5,
   "id": "2d413bac-78d0-49eb-837a-457eaf00e1e5",
   "metadata": {},
   "outputs": [
    {
     "data": {
      "text/html": [
       "<div>\n",
       "<style scoped>\n",
       "    .dataframe tbody tr th:only-of-type {\n",
       "        vertical-align: middle;\n",
       "    }\n",
       "\n",
       "    .dataframe tbody tr th {\n",
       "        vertical-align: top;\n",
       "    }\n",
       "\n",
       "    .dataframe thead th {\n",
       "        text-align: right;\n",
       "    }\n",
       "</style>\n",
       "<table border=\"1\" class=\"dataframe\">\n",
       "  <thead>\n",
       "    <tr style=\"text-align: right;\">\n",
       "      <th></th>\n",
       "      <th>Date</th>\n",
       "      <th>Ticker</th>\n",
       "      <th>Sector</th>\n",
       "      <th>Industry</th>\n",
       "      <th>Open</th>\n",
       "      <th>High</th>\n",
       "      <th>Low</th>\n",
       "      <th>Close</th>\n",
       "      <th>Volume</th>\n",
       "    </tr>\n",
       "  </thead>\n",
       "  <tbody>\n",
       "    <tr>\n",
       "      <th>0</th>\n",
       "      <td>2018-01-02</td>\n",
       "      <td>CPRT</td>\n",
       "      <td>Automobiles</td>\n",
       "      <td>Auto &amp; Truck Dealerships</td>\n",
       "      <td>43.52</td>\n",
       "      <td>43.6700</td>\n",
       "      <td>43.190</td>\n",
       "      <td>43.60</td>\n",
       "      <td>860740.0</td>\n",
       "    </tr>\n",
       "    <tr>\n",
       "      <th>1</th>\n",
       "      <td>2018-01-03</td>\n",
       "      <td>CPRT</td>\n",
       "      <td>Automobiles</td>\n",
       "      <td>Auto &amp; Truck Dealerships</td>\n",
       "      <td>43.63</td>\n",
       "      <td>43.8500</td>\n",
       "      <td>43.200</td>\n",
       "      <td>43.39</td>\n",
       "      <td>1152481.0</td>\n",
       "    </tr>\n",
       "    <tr>\n",
       "      <th>2</th>\n",
       "      <td>2018-01-04</td>\n",
       "      <td>CPRT</td>\n",
       "      <td>Automobiles</td>\n",
       "      <td>Auto &amp; Truck Dealerships</td>\n",
       "      <td>43.50</td>\n",
       "      <td>43.9500</td>\n",
       "      <td>43.300</td>\n",
       "      <td>43.74</td>\n",
       "      <td>1164240.0</td>\n",
       "    </tr>\n",
       "    <tr>\n",
       "      <th>3</th>\n",
       "      <td>2018-01-05</td>\n",
       "      <td>CPRT</td>\n",
       "      <td>Automobiles</td>\n",
       "      <td>Auto &amp; Truck Dealerships</td>\n",
       "      <td>43.77</td>\n",
       "      <td>43.8800</td>\n",
       "      <td>43.030</td>\n",
       "      <td>43.53</td>\n",
       "      <td>922916.0</td>\n",
       "    </tr>\n",
       "    <tr>\n",
       "      <th>4</th>\n",
       "      <td>2018-01-08</td>\n",
       "      <td>CPRT</td>\n",
       "      <td>Automobiles</td>\n",
       "      <td>Auto &amp; Truck Dealerships</td>\n",
       "      <td>43.59</td>\n",
       "      <td>43.8600</td>\n",
       "      <td>43.280</td>\n",
       "      <td>43.55</td>\n",
       "      <td>1254075.0</td>\n",
       "    </tr>\n",
       "    <tr>\n",
       "      <th>...</th>\n",
       "      <td>...</td>\n",
       "      <td>...</td>\n",
       "      <td>...</td>\n",
       "      <td>...</td>\n",
       "      <td>...</td>\n",
       "      <td>...</td>\n",
       "      <td>...</td>\n",
       "      <td>...</td>\n",
       "      <td>...</td>\n",
       "    </tr>\n",
       "    <tr>\n",
       "      <th>28602</th>\n",
       "      <td>2023-11-28</td>\n",
       "      <td>INTC</td>\n",
       "      <td>Automobiles</td>\n",
       "      <td>Semiconductors</td>\n",
       "      <td>43.69</td>\n",
       "      <td>44.3827</td>\n",
       "      <td>43.660</td>\n",
       "      <td>44.23</td>\n",
       "      <td>24548874.0</td>\n",
       "    </tr>\n",
       "    <tr>\n",
       "      <th>28603</th>\n",
       "      <td>2023-11-29</td>\n",
       "      <td>INTC</td>\n",
       "      <td>Automobiles</td>\n",
       "      <td>Semiconductors</td>\n",
       "      <td>44.60</td>\n",
       "      <td>45.3400</td>\n",
       "      <td>44.600</td>\n",
       "      <td>44.94</td>\n",
       "      <td>38982026.0</td>\n",
       "    </tr>\n",
       "    <tr>\n",
       "      <th>28604</th>\n",
       "      <td>2023-11-30</td>\n",
       "      <td>INTC</td>\n",
       "      <td>Automobiles</td>\n",
       "      <td>Semiconductors</td>\n",
       "      <td>44.65</td>\n",
       "      <td>45.0900</td>\n",
       "      <td>44.410</td>\n",
       "      <td>44.70</td>\n",
       "      <td>46262971.0</td>\n",
       "    </tr>\n",
       "    <tr>\n",
       "      <th>28605</th>\n",
       "      <td>2023-12-01</td>\n",
       "      <td>INTC</td>\n",
       "      <td>Automobiles</td>\n",
       "      <td>Semiconductors</td>\n",
       "      <td>44.36</td>\n",
       "      <td>44.3600</td>\n",
       "      <td>42.860</td>\n",
       "      <td>43.74</td>\n",
       "      <td>43928371.0</td>\n",
       "    </tr>\n",
       "    <tr>\n",
       "      <th>28606</th>\n",
       "      <td>2023-12-04</td>\n",
       "      <td>INTC</td>\n",
       "      <td>Automobiles</td>\n",
       "      <td>Semiconductors</td>\n",
       "      <td>43.30</td>\n",
       "      <td>43.3100</td>\n",
       "      <td>41.685</td>\n",
       "      <td>42.35</td>\n",
       "      <td>50417587.0</td>\n",
       "    </tr>\n",
       "  </tbody>\n",
       "</table>\n",
       "<p>28607 rows × 9 columns</p>\n",
       "</div>"
      ],
      "text/plain": [
       "             Date Ticker       Sector                  Industry   Open  \\\n",
       "0      2018-01-02   CPRT  Automobiles  Auto & Truck Dealerships  43.52   \n",
       "1      2018-01-03   CPRT  Automobiles  Auto & Truck Dealerships  43.63   \n",
       "2      2018-01-04   CPRT  Automobiles  Auto & Truck Dealerships  43.50   \n",
       "3      2018-01-05   CPRT  Automobiles  Auto & Truck Dealerships  43.77   \n",
       "4      2018-01-08   CPRT  Automobiles  Auto & Truck Dealerships  43.59   \n",
       "...           ...    ...          ...                       ...    ...   \n",
       "28602  2023-11-28   INTC  Automobiles            Semiconductors  43.69   \n",
       "28603  2023-11-29   INTC  Automobiles            Semiconductors  44.60   \n",
       "28604  2023-11-30   INTC  Automobiles            Semiconductors  44.65   \n",
       "28605  2023-12-01   INTC  Automobiles            Semiconductors  44.36   \n",
       "28606  2023-12-04   INTC  Automobiles            Semiconductors  43.30   \n",
       "\n",
       "          High     Low  Close      Volume  \n",
       "0      43.6700  43.190  43.60    860740.0  \n",
       "1      43.8500  43.200  43.39   1152481.0  \n",
       "2      43.9500  43.300  43.74   1164240.0  \n",
       "3      43.8800  43.030  43.53    922916.0  \n",
       "4      43.8600  43.280  43.55   1254075.0  \n",
       "...        ...     ...    ...         ...  \n",
       "28602  44.3827  43.660  44.23  24548874.0  \n",
       "28603  45.3400  44.600  44.94  38982026.0  \n",
       "28604  45.0900  44.410  44.70  46262971.0  \n",
       "28605  44.3600  42.860  43.74  43928371.0  \n",
       "28606  43.3100  41.685  42.35  50417587.0  \n",
       "\n",
       "[28607 rows x 9 columns]"
      ]
     },
     "execution_count": 5,
     "metadata": {},
     "output_type": "execute_result"
    }
   ],
   "source": [
    "df1"
   ]
  },
  {
   "cell_type": "code",
   "execution_count": 7,
   "id": "f5f39be8-1381-452b-ba5b-3f301c5d598b",
   "metadata": {},
   "outputs": [
    {
     "data": {
      "text/html": [
       "<div>\n",
       "<style scoped>\n",
       "    .dataframe tbody tr th:only-of-type {\n",
       "        vertical-align: middle;\n",
       "    }\n",
       "\n",
       "    .dataframe tbody tr th {\n",
       "        vertical-align: top;\n",
       "    }\n",
       "\n",
       "    .dataframe thead th {\n",
       "        text-align: right;\n",
       "    }\n",
       "</style>\n",
       "<table border=\"1\" class=\"dataframe\">\n",
       "  <thead>\n",
       "    <tr style=\"text-align: right;\">\n",
       "      <th></th>\n",
       "      <th>Date</th>\n",
       "      <th>Ticker</th>\n",
       "      <th>Sector</th>\n",
       "      <th>Industry</th>\n",
       "      <th>Open</th>\n",
       "      <th>High</th>\n",
       "      <th>Low</th>\n",
       "      <th>Close</th>\n",
       "      <th>Volume</th>\n",
       "    </tr>\n",
       "  </thead>\n",
       "  <tbody>\n",
       "    <tr>\n",
       "      <th>0</th>\n",
       "      <td>2018-01-02</td>\n",
       "      <td>WD</td>\n",
       "      <td>Finance</td>\n",
       "      <td>Mortgage</td>\n",
       "      <td>47.700001</td>\n",
       "      <td>47.919998</td>\n",
       "      <td>47.259998</td>\n",
       "      <td>47.320000</td>\n",
       "      <td>181300</td>\n",
       "    </tr>\n",
       "    <tr>\n",
       "      <th>1</th>\n",
       "      <td>2018-01-03</td>\n",
       "      <td>WD</td>\n",
       "      <td>Finance</td>\n",
       "      <td>Mortgage</td>\n",
       "      <td>47.230000</td>\n",
       "      <td>47.230000</td>\n",
       "      <td>46.090000</td>\n",
       "      <td>46.130001</td>\n",
       "      <td>134800</td>\n",
       "    </tr>\n",
       "    <tr>\n",
       "      <th>2</th>\n",
       "      <td>2018-01-04</td>\n",
       "      <td>WD</td>\n",
       "      <td>Finance</td>\n",
       "      <td>Mortgage</td>\n",
       "      <td>46.189999</td>\n",
       "      <td>46.810001</td>\n",
       "      <td>46.090000</td>\n",
       "      <td>46.099998</td>\n",
       "      <td>140200</td>\n",
       "    </tr>\n",
       "    <tr>\n",
       "      <th>3</th>\n",
       "      <td>2018-01-05</td>\n",
       "      <td>WD</td>\n",
       "      <td>Finance</td>\n",
       "      <td>Mortgage</td>\n",
       "      <td>46.110001</td>\n",
       "      <td>48.060001</td>\n",
       "      <td>45.349998</td>\n",
       "      <td>47.980000</td>\n",
       "      <td>336900</td>\n",
       "    </tr>\n",
       "    <tr>\n",
       "      <th>4</th>\n",
       "      <td>2018-01-08</td>\n",
       "      <td>WD</td>\n",
       "      <td>Finance</td>\n",
       "      <td>Mortgage</td>\n",
       "      <td>48.160000</td>\n",
       "      <td>48.880001</td>\n",
       "      <td>47.369999</td>\n",
       "      <td>47.820000</td>\n",
       "      <td>310100</td>\n",
       "    </tr>\n",
       "    <tr>\n",
       "      <th>...</th>\n",
       "      <td>...</td>\n",
       "      <td>...</td>\n",
       "      <td>...</td>\n",
       "      <td>...</td>\n",
       "      <td>...</td>\n",
       "      <td>...</td>\n",
       "      <td>...</td>\n",
       "      <td>...</td>\n",
       "      <td>...</td>\n",
       "    </tr>\n",
       "    <tr>\n",
       "      <th>29012</th>\n",
       "      <td>2023-11-27</td>\n",
       "      <td>COF</td>\n",
       "      <td>Finance</td>\n",
       "      <td>Credit Services</td>\n",
       "      <td>105.699997</td>\n",
       "      <td>106.610001</td>\n",
       "      <td>105.430000</td>\n",
       "      <td>106.180000</td>\n",
       "      <td>1556800</td>\n",
       "    </tr>\n",
       "    <tr>\n",
       "      <th>29013</th>\n",
       "      <td>2023-11-28</td>\n",
       "      <td>COF</td>\n",
       "      <td>Finance</td>\n",
       "      <td>Credit Services</td>\n",
       "      <td>106.370003</td>\n",
       "      <td>109.050003</td>\n",
       "      <td>106.139999</td>\n",
       "      <td>108.580002</td>\n",
       "      <td>1874500</td>\n",
       "    </tr>\n",
       "    <tr>\n",
       "      <th>29014</th>\n",
       "      <td>2023-11-29</td>\n",
       "      <td>COF</td>\n",
       "      <td>Finance</td>\n",
       "      <td>Credit Services</td>\n",
       "      <td>109.180000</td>\n",
       "      <td>111.559998</td>\n",
       "      <td>109.180000</td>\n",
       "      <td>110.129997</td>\n",
       "      <td>2087500</td>\n",
       "    </tr>\n",
       "    <tr>\n",
       "      <th>29015</th>\n",
       "      <td>2023-11-30</td>\n",
       "      <td>COF</td>\n",
       "      <td>Finance</td>\n",
       "      <td>Credit Services</td>\n",
       "      <td>110.800003</td>\n",
       "      <td>111.970001</td>\n",
       "      <td>110.180000</td>\n",
       "      <td>111.660004</td>\n",
       "      <td>2439300</td>\n",
       "    </tr>\n",
       "    <tr>\n",
       "      <th>29016</th>\n",
       "      <td>2023-12-01</td>\n",
       "      <td>COF</td>\n",
       "      <td>Finance</td>\n",
       "      <td>Credit Services</td>\n",
       "      <td>111.339996</td>\n",
       "      <td>115.139999</td>\n",
       "      <td>111.339996</td>\n",
       "      <td>113.930000</td>\n",
       "      <td>3421900</td>\n",
       "    </tr>\n",
       "  </tbody>\n",
       "</table>\n",
       "<p>29017 rows × 9 columns</p>\n",
       "</div>"
      ],
      "text/plain": [
       "             Date Ticker   Sector         Industry        Open        High  \\\n",
       "0      2018-01-02     WD  Finance         Mortgage   47.700001   47.919998   \n",
       "1      2018-01-03     WD  Finance         Mortgage   47.230000   47.230000   \n",
       "2      2018-01-04     WD  Finance         Mortgage   46.189999   46.810001   \n",
       "3      2018-01-05     WD  Finance         Mortgage   46.110001   48.060001   \n",
       "4      2018-01-08     WD  Finance         Mortgage   48.160000   48.880001   \n",
       "...           ...    ...      ...              ...         ...         ...   \n",
       "29012  2023-11-27    COF  Finance  Credit Services  105.699997  106.610001   \n",
       "29013  2023-11-28    COF  Finance  Credit Services  106.370003  109.050003   \n",
       "29014  2023-11-29    COF  Finance  Credit Services  109.180000  111.559998   \n",
       "29015  2023-11-30    COF  Finance  Credit Services  110.800003  111.970001   \n",
       "29016  2023-12-01    COF  Finance  Credit Services  111.339996  115.139999   \n",
       "\n",
       "              Low       Close   Volume  \n",
       "0       47.259998   47.320000   181300  \n",
       "1       46.090000   46.130001   134800  \n",
       "2       46.090000   46.099998   140200  \n",
       "3       45.349998   47.980000   336900  \n",
       "4       47.369999   47.820000   310100  \n",
       "...           ...         ...      ...  \n",
       "29012  105.430000  106.180000  1556800  \n",
       "29013  106.139999  108.580002  1874500  \n",
       "29014  109.180000  110.129997  2087500  \n",
       "29015  110.180000  111.660004  2439300  \n",
       "29016  111.339996  113.930000  3421900  \n",
       "\n",
       "[29017 rows x 9 columns]"
      ]
     },
     "execution_count": 7,
     "metadata": {},
     "output_type": "execute_result"
    }
   ],
   "source": [
    "df2"
   ]
  },
  {
   "cell_type": "code",
   "execution_count": 11,
   "id": "67efef5f-483b-445c-8c82-7ace31755db7",
   "metadata": {},
   "outputs": [
    {
     "data": {
      "text/html": [
       "<div>\n",
       "<style scoped>\n",
       "    .dataframe tbody tr th:only-of-type {\n",
       "        vertical-align: middle;\n",
       "    }\n",
       "\n",
       "    .dataframe tbody tr th {\n",
       "        vertical-align: top;\n",
       "    }\n",
       "\n",
       "    .dataframe thead th {\n",
       "        text-align: right;\n",
       "    }\n",
       "</style>\n",
       "<table border=\"1\" class=\"dataframe\">\n",
       "  <thead>\n",
       "    <tr style=\"text-align: right;\">\n",
       "      <th></th>\n",
       "      <th>Date</th>\n",
       "      <th>Ticker</th>\n",
       "      <th>Sector</th>\n",
       "      <th>Industry</th>\n",
       "      <th>Open</th>\n",
       "      <th>High</th>\n",
       "      <th>Low</th>\n",
       "      <th>Close</th>\n",
       "      <th>Volume</th>\n",
       "    </tr>\n",
       "  </thead>\n",
       "  <tbody>\n",
       "    <tr>\n",
       "      <th>0</th>\n",
       "      <td>2018-01-02</td>\n",
       "      <td>NVDA</td>\n",
       "      <td>Technology</td>\n",
       "      <td>Semiconductors</td>\n",
       "      <td>195.78</td>\n",
       "      <td>199.50</td>\n",
       "      <td>194.500</td>\n",
       "      <td>199.35</td>\n",
       "      <td>8303752.0</td>\n",
       "    </tr>\n",
       "    <tr>\n",
       "      <th>1</th>\n",
       "      <td>2018-01-03</td>\n",
       "      <td>NVDA</td>\n",
       "      <td>Technology</td>\n",
       "      <td>Semiconductors</td>\n",
       "      <td>204.10</td>\n",
       "      <td>213.70</td>\n",
       "      <td>203.750</td>\n",
       "      <td>212.47</td>\n",
       "      <td>22499518.0</td>\n",
       "    </tr>\n",
       "    <tr>\n",
       "      <th>2</th>\n",
       "      <td>2018-01-04</td>\n",
       "      <td>NVDA</td>\n",
       "      <td>Technology</td>\n",
       "      <td>Semiconductors</td>\n",
       "      <td>215.76</td>\n",
       "      <td>218.05</td>\n",
       "      <td>212.690</td>\n",
       "      <td>213.59</td>\n",
       "      <td>14346675.0</td>\n",
       "    </tr>\n",
       "    <tr>\n",
       "      <th>3</th>\n",
       "      <td>2018-01-05</td>\n",
       "      <td>NVDA</td>\n",
       "      <td>Technology</td>\n",
       "      <td>Semiconductors</td>\n",
       "      <td>214.19</td>\n",
       "      <td>216.91</td>\n",
       "      <td>211.080</td>\n",
       "      <td>215.40</td>\n",
       "      <td>14008768.0</td>\n",
       "    </tr>\n",
       "    <tr>\n",
       "      <th>4</th>\n",
       "      <td>2018-01-08</td>\n",
       "      <td>NVDA</td>\n",
       "      <td>Technology</td>\n",
       "      <td>Semiconductors</td>\n",
       "      <td>220.40</td>\n",
       "      <td>225.00</td>\n",
       "      <td>218.580</td>\n",
       "      <td>222.00</td>\n",
       "      <td>21190932.0</td>\n",
       "    </tr>\n",
       "    <tr>\n",
       "      <th>...</th>\n",
       "      <td>...</td>\n",
       "      <td>...</td>\n",
       "      <td>...</td>\n",
       "      <td>...</td>\n",
       "      <td>...</td>\n",
       "      <td>...</td>\n",
       "      <td>...</td>\n",
       "      <td>...</td>\n",
       "      <td>...</td>\n",
       "    </tr>\n",
       "    <tr>\n",
       "      <th>29059</th>\n",
       "      <td>2023-11-28</td>\n",
       "      <td>CTSH</td>\n",
       "      <td>Technology</td>\n",
       "      <td>Infotech</td>\n",
       "      <td>70.70</td>\n",
       "      <td>71.52</td>\n",
       "      <td>70.700</td>\n",
       "      <td>71.30</td>\n",
       "      <td>2607377.0</td>\n",
       "    </tr>\n",
       "    <tr>\n",
       "      <th>29060</th>\n",
       "      <td>2023-11-29</td>\n",
       "      <td>CTSH</td>\n",
       "      <td>Technology</td>\n",
       "      <td>Infotech</td>\n",
       "      <td>71.60</td>\n",
       "      <td>71.80</td>\n",
       "      <td>69.895</td>\n",
       "      <td>70.12</td>\n",
       "      <td>3521683.0</td>\n",
       "    </tr>\n",
       "    <tr>\n",
       "      <th>29061</th>\n",
       "      <td>2023-11-30</td>\n",
       "      <td>CTSH</td>\n",
       "      <td>Technology</td>\n",
       "      <td>Infotech</td>\n",
       "      <td>70.39</td>\n",
       "      <td>70.52</td>\n",
       "      <td>69.800</td>\n",
       "      <td>70.38</td>\n",
       "      <td>8254394.0</td>\n",
       "    </tr>\n",
       "    <tr>\n",
       "      <th>29062</th>\n",
       "      <td>2023-12-01</td>\n",
       "      <td>CTSH</td>\n",
       "      <td>Technology</td>\n",
       "      <td>Infotech</td>\n",
       "      <td>70.23</td>\n",
       "      <td>70.87</td>\n",
       "      <td>70.080</td>\n",
       "      <td>70.82</td>\n",
       "      <td>2672566.0</td>\n",
       "    </tr>\n",
       "    <tr>\n",
       "      <th>29063</th>\n",
       "      <td>2023-12-04</td>\n",
       "      <td>CTSH</td>\n",
       "      <td>Technology</td>\n",
       "      <td>Infotech</td>\n",
       "      <td>70.40</td>\n",
       "      <td>71.48</td>\n",
       "      <td>70.220</td>\n",
       "      <td>71.16</td>\n",
       "      <td>2405138.0</td>\n",
       "    </tr>\n",
       "  </tbody>\n",
       "</table>\n",
       "<p>29064 rows × 9 columns</p>\n",
       "</div>"
      ],
      "text/plain": [
       "             Date Ticker      Sector        Industry    Open    High      Low  \\\n",
       "0      2018-01-02   NVDA  Technology  Semiconductors  195.78  199.50  194.500   \n",
       "1      2018-01-03   NVDA  Technology  Semiconductors  204.10  213.70  203.750   \n",
       "2      2018-01-04   NVDA  Technology  Semiconductors  215.76  218.05  212.690   \n",
       "3      2018-01-05   NVDA  Technology  Semiconductors  214.19  216.91  211.080   \n",
       "4      2018-01-08   NVDA  Technology  Semiconductors  220.40  225.00  218.580   \n",
       "...           ...    ...         ...             ...     ...     ...      ...   \n",
       "29059  2023-11-28   CTSH  Technology        Infotech   70.70   71.52   70.700   \n",
       "29060  2023-11-29   CTSH  Technology        Infotech   71.60   71.80   69.895   \n",
       "29061  2023-11-30   CTSH  Technology        Infotech   70.39   70.52   69.800   \n",
       "29062  2023-12-01   CTSH  Technology        Infotech   70.23   70.87   70.080   \n",
       "29063  2023-12-04   CTSH  Technology        Infotech   70.40   71.48   70.220   \n",
       "\n",
       "        Close      Volume  \n",
       "0      199.35   8303752.0  \n",
       "1      212.47  22499518.0  \n",
       "2      213.59  14346675.0  \n",
       "3      215.40  14008768.0  \n",
       "4      222.00  21190932.0  \n",
       "...       ...         ...  \n",
       "29059   71.30   2607377.0  \n",
       "29060   70.12   3521683.0  \n",
       "29061   70.38   8254394.0  \n",
       "29062   70.82   2672566.0  \n",
       "29063   71.16   2405138.0  \n",
       "\n",
       "[29064 rows x 9 columns]"
      ]
     },
     "execution_count": 11,
     "metadata": {},
     "output_type": "execute_result"
    }
   ],
   "source": [
    "df3"
   ]
  },
  {
   "cell_type": "code",
   "execution_count": 12,
   "id": "72795861-b50e-4249-936e-9e109ba23fee",
   "metadata": {},
   "outputs": [],
   "source": [
    "combined_df = pd.concat([df1, df2, df3], ignore_index=True)"
   ]
  },
  {
   "cell_type": "code",
   "execution_count": 16,
   "id": "14e68296-7803-4710-8630-343607dc43ea",
   "metadata": {},
   "outputs": [
    {
     "data": {
      "text/html": [
       "<div>\n",
       "<style scoped>\n",
       "    .dataframe tbody tr th:only-of-type {\n",
       "        vertical-align: middle;\n",
       "    }\n",
       "\n",
       "    .dataframe tbody tr th {\n",
       "        vertical-align: top;\n",
       "    }\n",
       "\n",
       "    .dataframe thead th {\n",
       "        text-align: right;\n",
       "    }\n",
       "</style>\n",
       "<table border=\"1\" class=\"dataframe\">\n",
       "  <thead>\n",
       "    <tr style=\"text-align: right;\">\n",
       "      <th></th>\n",
       "      <th>Date</th>\n",
       "      <th>Ticker</th>\n",
       "      <th>Sector</th>\n",
       "      <th>Industry</th>\n",
       "      <th>Open</th>\n",
       "      <th>High</th>\n",
       "      <th>Low</th>\n",
       "      <th>Close</th>\n",
       "      <th>Volume</th>\n",
       "    </tr>\n",
       "  </thead>\n",
       "  <tbody>\n",
       "    <tr>\n",
       "      <th>0</th>\n",
       "      <td>2018-01-02</td>\n",
       "      <td>CPRT</td>\n",
       "      <td>Automobiles</td>\n",
       "      <td>Auto &amp; Truck Dealerships</td>\n",
       "      <td>43.52</td>\n",
       "      <td>43.67</td>\n",
       "      <td>43.190</td>\n",
       "      <td>43.60</td>\n",
       "      <td>860740.0</td>\n",
       "    </tr>\n",
       "    <tr>\n",
       "      <th>1</th>\n",
       "      <td>2018-01-03</td>\n",
       "      <td>CPRT</td>\n",
       "      <td>Automobiles</td>\n",
       "      <td>Auto &amp; Truck Dealerships</td>\n",
       "      <td>43.63</td>\n",
       "      <td>43.85</td>\n",
       "      <td>43.200</td>\n",
       "      <td>43.39</td>\n",
       "      <td>1152481.0</td>\n",
       "    </tr>\n",
       "    <tr>\n",
       "      <th>2</th>\n",
       "      <td>2018-01-04</td>\n",
       "      <td>CPRT</td>\n",
       "      <td>Automobiles</td>\n",
       "      <td>Auto &amp; Truck Dealerships</td>\n",
       "      <td>43.50</td>\n",
       "      <td>43.95</td>\n",
       "      <td>43.300</td>\n",
       "      <td>43.74</td>\n",
       "      <td>1164240.0</td>\n",
       "    </tr>\n",
       "    <tr>\n",
       "      <th>3</th>\n",
       "      <td>2018-01-05</td>\n",
       "      <td>CPRT</td>\n",
       "      <td>Automobiles</td>\n",
       "      <td>Auto &amp; Truck Dealerships</td>\n",
       "      <td>43.77</td>\n",
       "      <td>43.88</td>\n",
       "      <td>43.030</td>\n",
       "      <td>43.53</td>\n",
       "      <td>922916.0</td>\n",
       "    </tr>\n",
       "    <tr>\n",
       "      <th>4</th>\n",
       "      <td>2018-01-08</td>\n",
       "      <td>CPRT</td>\n",
       "      <td>Automobiles</td>\n",
       "      <td>Auto &amp; Truck Dealerships</td>\n",
       "      <td>43.59</td>\n",
       "      <td>43.86</td>\n",
       "      <td>43.280</td>\n",
       "      <td>43.55</td>\n",
       "      <td>1254075.0</td>\n",
       "    </tr>\n",
       "    <tr>\n",
       "      <th>...</th>\n",
       "      <td>...</td>\n",
       "      <td>...</td>\n",
       "      <td>...</td>\n",
       "      <td>...</td>\n",
       "      <td>...</td>\n",
       "      <td>...</td>\n",
       "      <td>...</td>\n",
       "      <td>...</td>\n",
       "      <td>...</td>\n",
       "    </tr>\n",
       "    <tr>\n",
       "      <th>86683</th>\n",
       "      <td>2023-11-28</td>\n",
       "      <td>CTSH</td>\n",
       "      <td>Technology</td>\n",
       "      <td>Infotech</td>\n",
       "      <td>70.70</td>\n",
       "      <td>71.52</td>\n",
       "      <td>70.700</td>\n",
       "      <td>71.30</td>\n",
       "      <td>2607377.0</td>\n",
       "    </tr>\n",
       "    <tr>\n",
       "      <th>86684</th>\n",
       "      <td>2023-11-29</td>\n",
       "      <td>CTSH</td>\n",
       "      <td>Technology</td>\n",
       "      <td>Infotech</td>\n",
       "      <td>71.60</td>\n",
       "      <td>71.80</td>\n",
       "      <td>69.895</td>\n",
       "      <td>70.12</td>\n",
       "      <td>3521683.0</td>\n",
       "    </tr>\n",
       "    <tr>\n",
       "      <th>86685</th>\n",
       "      <td>2023-11-30</td>\n",
       "      <td>CTSH</td>\n",
       "      <td>Technology</td>\n",
       "      <td>Infotech</td>\n",
       "      <td>70.39</td>\n",
       "      <td>70.52</td>\n",
       "      <td>69.800</td>\n",
       "      <td>70.38</td>\n",
       "      <td>8254394.0</td>\n",
       "    </tr>\n",
       "    <tr>\n",
       "      <th>86686</th>\n",
       "      <td>2023-12-01</td>\n",
       "      <td>CTSH</td>\n",
       "      <td>Technology</td>\n",
       "      <td>Infotech</td>\n",
       "      <td>70.23</td>\n",
       "      <td>70.87</td>\n",
       "      <td>70.080</td>\n",
       "      <td>70.82</td>\n",
       "      <td>2672566.0</td>\n",
       "    </tr>\n",
       "    <tr>\n",
       "      <th>86687</th>\n",
       "      <td>2023-12-04</td>\n",
       "      <td>CTSH</td>\n",
       "      <td>Technology</td>\n",
       "      <td>Infotech</td>\n",
       "      <td>70.40</td>\n",
       "      <td>71.48</td>\n",
       "      <td>70.220</td>\n",
       "      <td>71.16</td>\n",
       "      <td>2405138.0</td>\n",
       "    </tr>\n",
       "  </tbody>\n",
       "</table>\n",
       "<p>86688 rows × 9 columns</p>\n",
       "</div>"
      ],
      "text/plain": [
       "             Date Ticker       Sector                  Industry   Open   High  \\\n",
       "0      2018-01-02   CPRT  Automobiles  Auto & Truck Dealerships  43.52  43.67   \n",
       "1      2018-01-03   CPRT  Automobiles  Auto & Truck Dealerships  43.63  43.85   \n",
       "2      2018-01-04   CPRT  Automobiles  Auto & Truck Dealerships  43.50  43.95   \n",
       "3      2018-01-05   CPRT  Automobiles  Auto & Truck Dealerships  43.77  43.88   \n",
       "4      2018-01-08   CPRT  Automobiles  Auto & Truck Dealerships  43.59  43.86   \n",
       "...           ...    ...          ...                       ...    ...    ...   \n",
       "86683  2023-11-28   CTSH   Technology                  Infotech  70.70  71.52   \n",
       "86684  2023-11-29   CTSH   Technology                  Infotech  71.60  71.80   \n",
       "86685  2023-11-30   CTSH   Technology                  Infotech  70.39  70.52   \n",
       "86686  2023-12-01   CTSH   Technology                  Infotech  70.23  70.87   \n",
       "86687  2023-12-04   CTSH   Technology                  Infotech  70.40  71.48   \n",
       "\n",
       "          Low  Close     Volume  \n",
       "0      43.190  43.60   860740.0  \n",
       "1      43.200  43.39  1152481.0  \n",
       "2      43.300  43.74  1164240.0  \n",
       "3      43.030  43.53   922916.0  \n",
       "4      43.280  43.55  1254075.0  \n",
       "...       ...    ...        ...  \n",
       "86683  70.700  71.30  2607377.0  \n",
       "86684  69.895  70.12  3521683.0  \n",
       "86685  69.800  70.38  8254394.0  \n",
       "86686  70.080  70.82  2672566.0  \n",
       "86687  70.220  71.16  2405138.0  \n",
       "\n",
       "[86688 rows x 9 columns]"
      ]
     },
     "execution_count": 16,
     "metadata": {},
     "output_type": "execute_result"
    }
   ],
   "source": [
    "combined_df"
   ]
  },
  {
   "cell_type": "code",
   "execution_count": 22,
   "id": "f0e67baf-6789-45d1-9699-87e48ee359d7",
   "metadata": {},
   "outputs": [
    {
     "data": {
      "text/plain": [
       "Date        datetime64[ns]\n",
       "Ticker              object\n",
       "Sector              object\n",
       "Industry            object\n",
       "Open               float64\n",
       "High               float64\n",
       "Low                float64\n",
       "Close              float64\n",
       "Volume             float64\n",
       "dtype: object"
      ]
     },
     "execution_count": 22,
     "metadata": {},
     "output_type": "execute_result"
    }
   ],
   "source": [
    "combined_df['Date'] = pd.to_datetime(combined_df['Date'])\n",
    "combined_df.dtypes"
   ]
  },
  {
   "cell_type": "code",
   "execution_count": 23,
   "id": "e46375d3-2e2c-4d0d-9672-0d6f00bba235",
   "metadata": {},
   "outputs": [
    {
     "data": {
      "text/html": [
       "<div>\n",
       "<style scoped>\n",
       "    .dataframe tbody tr th:only-of-type {\n",
       "        vertical-align: middle;\n",
       "    }\n",
       "\n",
       "    .dataframe tbody tr th {\n",
       "        vertical-align: top;\n",
       "    }\n",
       "\n",
       "    .dataframe thead th {\n",
       "        text-align: right;\n",
       "    }\n",
       "</style>\n",
       "<table border=\"1\" class=\"dataframe\">\n",
       "  <thead>\n",
       "    <tr style=\"text-align: right;\">\n",
       "      <th></th>\n",
       "      <th>Date</th>\n",
       "      <th>Ticker</th>\n",
       "      <th>Sector</th>\n",
       "      <th>Industry</th>\n",
       "      <th>Open</th>\n",
       "      <th>High</th>\n",
       "      <th>Low</th>\n",
       "      <th>Close</th>\n",
       "      <th>Volume</th>\n",
       "      <th>Year</th>\n",
       "    </tr>\n",
       "  </thead>\n",
       "  <tbody>\n",
       "    <tr>\n",
       "      <th>0</th>\n",
       "      <td>2018-01-02</td>\n",
       "      <td>CPRT</td>\n",
       "      <td>Automobiles</td>\n",
       "      <td>Auto &amp; Truck Dealerships</td>\n",
       "      <td>43.52</td>\n",
       "      <td>43.67</td>\n",
       "      <td>43.190</td>\n",
       "      <td>43.60</td>\n",
       "      <td>860740.0</td>\n",
       "      <td>2018</td>\n",
       "    </tr>\n",
       "    <tr>\n",
       "      <th>1</th>\n",
       "      <td>2018-01-03</td>\n",
       "      <td>CPRT</td>\n",
       "      <td>Automobiles</td>\n",
       "      <td>Auto &amp; Truck Dealerships</td>\n",
       "      <td>43.63</td>\n",
       "      <td>43.85</td>\n",
       "      <td>43.200</td>\n",
       "      <td>43.39</td>\n",
       "      <td>1152481.0</td>\n",
       "      <td>2018</td>\n",
       "    </tr>\n",
       "    <tr>\n",
       "      <th>2</th>\n",
       "      <td>2018-01-04</td>\n",
       "      <td>CPRT</td>\n",
       "      <td>Automobiles</td>\n",
       "      <td>Auto &amp; Truck Dealerships</td>\n",
       "      <td>43.50</td>\n",
       "      <td>43.95</td>\n",
       "      <td>43.300</td>\n",
       "      <td>43.74</td>\n",
       "      <td>1164240.0</td>\n",
       "      <td>2018</td>\n",
       "    </tr>\n",
       "    <tr>\n",
       "      <th>3</th>\n",
       "      <td>2018-01-05</td>\n",
       "      <td>CPRT</td>\n",
       "      <td>Automobiles</td>\n",
       "      <td>Auto &amp; Truck Dealerships</td>\n",
       "      <td>43.77</td>\n",
       "      <td>43.88</td>\n",
       "      <td>43.030</td>\n",
       "      <td>43.53</td>\n",
       "      <td>922916.0</td>\n",
       "      <td>2018</td>\n",
       "    </tr>\n",
       "    <tr>\n",
       "      <th>4</th>\n",
       "      <td>2018-01-08</td>\n",
       "      <td>CPRT</td>\n",
       "      <td>Automobiles</td>\n",
       "      <td>Auto &amp; Truck Dealerships</td>\n",
       "      <td>43.59</td>\n",
       "      <td>43.86</td>\n",
       "      <td>43.280</td>\n",
       "      <td>43.55</td>\n",
       "      <td>1254075.0</td>\n",
       "      <td>2018</td>\n",
       "    </tr>\n",
       "    <tr>\n",
       "      <th>...</th>\n",
       "      <td>...</td>\n",
       "      <td>...</td>\n",
       "      <td>...</td>\n",
       "      <td>...</td>\n",
       "      <td>...</td>\n",
       "      <td>...</td>\n",
       "      <td>...</td>\n",
       "      <td>...</td>\n",
       "      <td>...</td>\n",
       "      <td>...</td>\n",
       "    </tr>\n",
       "    <tr>\n",
       "      <th>86683</th>\n",
       "      <td>2023-11-28</td>\n",
       "      <td>CTSH</td>\n",
       "      <td>Technology</td>\n",
       "      <td>Infotech</td>\n",
       "      <td>70.70</td>\n",
       "      <td>71.52</td>\n",
       "      <td>70.700</td>\n",
       "      <td>71.30</td>\n",
       "      <td>2607377.0</td>\n",
       "      <td>2023</td>\n",
       "    </tr>\n",
       "    <tr>\n",
       "      <th>86684</th>\n",
       "      <td>2023-11-29</td>\n",
       "      <td>CTSH</td>\n",
       "      <td>Technology</td>\n",
       "      <td>Infotech</td>\n",
       "      <td>71.60</td>\n",
       "      <td>71.80</td>\n",
       "      <td>69.895</td>\n",
       "      <td>70.12</td>\n",
       "      <td>3521683.0</td>\n",
       "      <td>2023</td>\n",
       "    </tr>\n",
       "    <tr>\n",
       "      <th>86685</th>\n",
       "      <td>2023-11-30</td>\n",
       "      <td>CTSH</td>\n",
       "      <td>Technology</td>\n",
       "      <td>Infotech</td>\n",
       "      <td>70.39</td>\n",
       "      <td>70.52</td>\n",
       "      <td>69.800</td>\n",
       "      <td>70.38</td>\n",
       "      <td>8254394.0</td>\n",
       "      <td>2023</td>\n",
       "    </tr>\n",
       "    <tr>\n",
       "      <th>86686</th>\n",
       "      <td>2023-12-01</td>\n",
       "      <td>CTSH</td>\n",
       "      <td>Technology</td>\n",
       "      <td>Infotech</td>\n",
       "      <td>70.23</td>\n",
       "      <td>70.87</td>\n",
       "      <td>70.080</td>\n",
       "      <td>70.82</td>\n",
       "      <td>2672566.0</td>\n",
       "      <td>2023</td>\n",
       "    </tr>\n",
       "    <tr>\n",
       "      <th>86687</th>\n",
       "      <td>2023-12-04</td>\n",
       "      <td>CTSH</td>\n",
       "      <td>Technology</td>\n",
       "      <td>Infotech</td>\n",
       "      <td>70.40</td>\n",
       "      <td>71.48</td>\n",
       "      <td>70.220</td>\n",
       "      <td>71.16</td>\n",
       "      <td>2405138.0</td>\n",
       "      <td>2023</td>\n",
       "    </tr>\n",
       "  </tbody>\n",
       "</table>\n",
       "<p>86688 rows × 10 columns</p>\n",
       "</div>"
      ],
      "text/plain": [
       "            Date Ticker       Sector                  Industry   Open   High  \\\n",
       "0     2018-01-02   CPRT  Automobiles  Auto & Truck Dealerships  43.52  43.67   \n",
       "1     2018-01-03   CPRT  Automobiles  Auto & Truck Dealerships  43.63  43.85   \n",
       "2     2018-01-04   CPRT  Automobiles  Auto & Truck Dealerships  43.50  43.95   \n",
       "3     2018-01-05   CPRT  Automobiles  Auto & Truck Dealerships  43.77  43.88   \n",
       "4     2018-01-08   CPRT  Automobiles  Auto & Truck Dealerships  43.59  43.86   \n",
       "...          ...    ...          ...                       ...    ...    ...   \n",
       "86683 2023-11-28   CTSH   Technology                  Infotech  70.70  71.52   \n",
       "86684 2023-11-29   CTSH   Technology                  Infotech  71.60  71.80   \n",
       "86685 2023-11-30   CTSH   Technology                  Infotech  70.39  70.52   \n",
       "86686 2023-12-01   CTSH   Technology                  Infotech  70.23  70.87   \n",
       "86687 2023-12-04   CTSH   Technology                  Infotech  70.40  71.48   \n",
       "\n",
       "          Low  Close     Volume  Year  \n",
       "0      43.190  43.60   860740.0  2018  \n",
       "1      43.200  43.39  1152481.0  2018  \n",
       "2      43.300  43.74  1164240.0  2018  \n",
       "3      43.030  43.53   922916.0  2018  \n",
       "4      43.280  43.55  1254075.0  2018  \n",
       "...       ...    ...        ...   ...  \n",
       "86683  70.700  71.30  2607377.0  2023  \n",
       "86684  69.895  70.12  3521683.0  2023  \n",
       "86685  69.800  70.38  8254394.0  2023  \n",
       "86686  70.080  70.82  2672566.0  2023  \n",
       "86687  70.220  71.16  2405138.0  2023  \n",
       "\n",
       "[86688 rows x 10 columns]"
      ]
     },
     "execution_count": 23,
     "metadata": {},
     "output_type": "execute_result"
    }
   ],
   "source": [
    "combined_df['Year'] = combined_df['Date'].dt.year\n",
    "combined_df"
   ]
  },
  {
   "cell_type": "code",
   "execution_count": 30,
   "id": "5debf8b2-41ce-415c-99ae-930d28ef73e9",
   "metadata": {},
   "outputs": [],
   "source": [
    "grouped_df = combined_df.groupby(['Year', 'Sector'])['Volume'].mean().reset_index()"
   ]
  },
  {
   "cell_type": "code",
   "execution_count": 31,
   "id": "df7b048f-fad3-4e5e-891e-f8c29116cdab",
   "metadata": {},
   "outputs": [],
   "source": [
    "pivot_data = grouped_df.pivot(index='Year', columns='Sector', values='Volume').reset_index()"
   ]
  },
  {
   "cell_type": "code",
   "execution_count": 37,
   "id": "3bb8b5e1-0c31-4135-b6ea-4f0fffea82a9",
   "metadata": {},
   "outputs": [
    {
     "data": {
      "text/plain": [
       "<matplotlib.legend.Legend at 0x196c3223f50>"
      ]
     },
     "execution_count": 37,
     "metadata": {},
     "output_type": "execute_result"
    },
    {
     "data": {
      "image/png": "[encoded data removed]",
      "text/plain": [
       "<Figure size 1200x800 with 1 Axes>"
      ]
     },
     "metadata": {},
     "output_type": "display_data"
    }
   ],
   "source": [
    "plt.figure(figsize=(12, 8))\n",
    "bar_width = 0.2  # Width of each bar\n",
    "# offset = bar_width / 2  # Offset for aligning bars of different sectors in the same year\n",
    "\n",
    "for i, sector in enumerate(grouped_df['Sector'].unique()):\n",
    "    plt.bar(pivot_data['Year'] + i * bar_width, pivot_data[sector], width=bar_width, label=sector)\n",
    "\n",
    "plt.xlabel('Year')\n",
    "plt.ylabel('Average of Volume')\n",
    "plt.title('Performance of Each Sector per year in terms of Average Volume')\n",
    "plt.legend()"
   ]
  },
  {
   "cell_type": "code",
   "execution_count": 38,
   "id": "af3d0ecb-dacc-4ec0-abca-dc4e21d758f6",
   "metadata": {},
   "outputs": [
    {
     "name": "stdout",
     "output_type": "stream",
     "text": [
      "Requirement already satisfied: plotly in c:\\users\\kunal\\anaconda3\\lib\\site-packages (5.9.0)Note: you may need to restart the kernel to use updated packages.\n",
      "\n",
      "Requirement already satisfied: tenacity>=6.2.0 in c:\\users\\kunal\\anaconda3\\lib\\site-packages (from plotly) (8.2.2)\n"
     ]
    }
   ],
   "source": [
    "pip install plotly"
   ]
  },
  {
   "cell_type": "code",
   "execution_count": 47,
   "id": "710020b8-51bf-4263-a321-bcb732617688",
   "metadata": {},
   "outputs": [
    {
     "data": {
      "application/vnd.plotly.v1+json": {
       "config": {
        "plotlyServerURL": "https://plot.ly"
       },
       "data": [
        {
         "alignmentgroup": "True",
         "hovertemplate": "<b>%{y}</b> Volume<br>%{x} Year",
         "legendgroup": "Automobiles",
         "marker": {
          "color": "#636efa",
          "pattern": {
           "shape": ""
          }
         },
         "name": "Automobiles",
         "offsetgroup": "Automobiles",
         "orientation": "v",
         "showlegend": true,
         "textposition": "auto",
         "type": "bar",
         "x": [
          2018,
          2019,
          2020,
          2021,
          2022,
          2023
         ],
         "xaxis": "x",
         "y": [
          11417629.790941497,
          9321530.947786132,
          13213196.95340129,
          13030696.907894736,
          18356610.90674974,
          19655790.746336207
         ],
         "yaxis": "y"
        },
        {
         "alignmentgroup": "True",
         "hovertemplate": "<b>%{y}</b> Volume<br>%{x} Year",
         "legendgroup": "Finance",
         "marker": {
          "color": "#EF553B",
          "pattern": {
           "shape": ""
          }
         },
         "name": "Finance",
         "offsetgroup": "Finance",
         "orientation": "v",
         "showlegend": true,
         "textposition": "auto",
         "type": "bar",
         "x": [
          2018,
          2019,
          2020,
          2021,
          2022,
          2023
         ],
         "xaxis": "x",
         "y": [
          2900699.776682743,
          2593409.8980785296,
          3578389.007905138,
          2658926.412926391,
          2489819.8609561753,
          2225249.891774892
         ],
         "yaxis": "y"
        },
        {
         "alignmentgroup": "True",
         "hovertemplate": "<b>%{y}</b> Volume<br>%{x} Year",
         "legendgroup": "Technology",
         "marker": {
          "color": "#00cc96",
          "pattern": {
           "shape": ""
          }
         },
         "name": "Technology",
         "offsetgroup": "Technology",
         "orientation": "v",
         "showlegend": true,
         "textposition": "auto",
         "type": "bar",
         "x": [
          2018,
          2019,
          2020,
          2021,
          2022,
          2023
         ],
         "xaxis": "x",
         "y": [
          12876693.535482476,
          10588375.991854636,
          13993239.436616875,
          13373539.329960318,
          18191490.094820715,
          14706156.75862069
         ],
         "yaxis": "y"
        }
       ],
       "layout": {
        "autosize": true,
        "barmode": "relative",
        "legend": {
         "title": {
          "text": "Sector"
         },
         "tracegroupgap": 0
        },
        "template": {
         "data": {
          "bar": [
           {
            "error_x": {
             "color": "#2a3f5f"
            },
            "error_y": {
             "color": "#2a3f5f"
            },
            "marker": {
             "line": {
              "color": "#E5ECF6",
              "width": 0.5
             },
             "pattern": {
              "fillmode": "overlay",
              "size": 10,
              "solidity": 0.2
             }
            },
            "type": "bar"
           }
          ],
          "barpolar": [
           {
            "marker": {
             "line": {
              "color": "#E5ECF6",
              "width": 0.5
             },
             "pattern": {
              "fillmode": "overlay",
              "size": 10,
              "solidity": 0.2
             }
            },
            "type": "barpolar"
           }
          ],
          "carpet": [
           {
            "aaxis": {
             "endlinecolor": "#2a3f5f",
             "gridcolor": "white",
             "linecolor": "white",
             "minorgridcolor": "white",
             "startlinecolor": "#2a3f5f"
            },
            "baxis": {
             "endlinecolor": "#2a3f5f",
             "gridcolor": "white",
             "linecolor": "white",
             "minorgridcolor": "white",
             "startlinecolor": "#2a3f5f"
            },
            "type": "carpet"
           }
          ],
          "choropleth": [
           {
            "colorbar": {
             "outlinewidth": 0,
             "ticks": ""
            },
            "type": "choropleth"
           }
          ],
          "contour": [
           {
            "colorbar": {
             "outlinewidth": 0,
             "ticks": ""
            },
            "colorscale": [
             [
              0,
              "#0d0887"
             ],
             [
              0.1111111111111111,
              "#46039f"
             ],
             [
              0.2222222222222222,
              "#7201a8"
             ],
             [
              0.3333333333333333,
              "#9c179e"
             ],
             [
              0.4444444444444444,
              "#bd3786"
             ],
             [
              0.5555555555555556,
              "#d8576b"
             ],
             [
              0.6666666666666666,
              "#ed7953"
             ],
             [
              0.7777777777777778,
              "#fb9f3a"
             ],
             [
              0.8888888888888888,
              "#fdca26"
             ],
             [
              1,
              "#f0f921"
             ]
            ],
            "type": "contour"
           }
          ],
          "contourcarpet": [
           {
            "colorbar": {
             "outlinewidth": 0,
             "ticks": ""
            },
            "type": "contourcarpet"
           }
          ],
          "heatmap": [
           {
            "colorbar": {
             "outlinewidth": 0,
             "ticks": ""
            },
            "colorscale": [
             [
              0,
              "#0d0887"
             ],
             [
              0.1111111111111111,
              "#46039f"
             ],
             [
              0.2222222222222222,
              "#7201a8"
             ],
             [
              0.3333333333333333,
              "#9c179e"
             ],
             [
              0.4444444444444444,
              "#bd3786"
             ],
             [
              0.5555555555555556,
              "#d8576b"
             ],
             [
              0.6666666666666666,
              "#ed7953"
             ],
             [
              0.7777777777777778,
              "#fb9f3a"
             ],
             [
              0.8888888888888888,
              "#fdca26"
             ],
             [
              1,
              "#f0f921"
             ]
            ],
            "type": "heatmap"
           }
          ],
          "heatmapgl": [
           {
            "colorbar": {
             "outlinewidth": 0,
             "ticks": ""
            },
            "colorscale": [
             [
              0,
              "#0d0887"
             ],
             [
              0.1111111111111111,
              "#46039f"
             ],
             [
              0.2222222222222222,
              "#7201a8"
             ],
             [
              0.3333333333333333,
              "#9c179e"
             ],
             [
              0.4444444444444444,
              "#bd3786"
             ],
             [
              0.5555555555555556,
              "#d8576b"
             ],
             [
              0.6666666666666666,
              "#ed7953"
             ],
             [
              0.7777777777777778,
              "#fb9f3a"
             ],
             [
              0.8888888888888888,
              "#fdca26"
             ],
             [
              1,
              "#f0f921"
             ]
            ],
            "type": "heatmapgl"
           }
          ],
          "histogram": [
           {
            "marker": {
             "pattern": {
              "fillmode": "overlay",
              "size": 10,
              "solidity": 0.2
             }
            },
            "type": "histogram"
           }
          ],
          "histogram2d": [
           {
            "colorbar": {
             "outlinewidth": 0,
             "ticks": ""
            },
            "colorscale": [
             [
              0,
              "#0d0887"
             ],
             [
              0.1111111111111111,
              "#46039f"
             ],
             [
              0.2222222222222222,
              "#7201a8"
             ],
             [
              0.3333333333333333,
              "#9c179e"
             ],
             [
              0.4444444444444444,
              "#bd3786"
             ],
             [
              0.5555555555555556,
              "#d8576b"
             ],
             [
              0.6666666666666666,
              "#ed7953"
             ],
             [
              0.7777777777777778,
              "#fb9f3a"
             ],
             [
              0.8888888888888888,
              "#fdca26"
             ],
             [
              1,
              "#f0f921"
             ]
            ],
            "type": "histogram2d"
           }
          ],
          "histogram2dcontour": [
           {
            "colorbar": {
             "outlinewidth": 0,
             "ticks": ""
            },
            "colorscale": [
             [
              0,
              "#0d0887"
             ],
             [
              0.1111111111111111,
              "#46039f"
             ],
             [
              0.2222222222222222,
              "#7201a8"
             ],
             [
              0.3333333333333333,
              "#9c179e"
             ],
             [
              0.4444444444444444,
              "#bd3786"
             ],
             [
              0.5555555555555556,
              "#d8576b"
             ],
             [
              0.6666666666666666,
              "#ed7953"
             ],
             [
              0.7777777777777778,
              "#fb9f3a"
             ],
             [
              0.8888888888888888,
              "#fdca26"
             ],
             [
              1,
              "#f0f921"
             ]
            ],
            "type": "histogram2dcontour"
           }
          ],
          "mesh3d": [
           {
            "colorbar": {
             "outlinewidth": 0,
             "ticks": ""
            },
            "type": "mesh3d"
           }
          ],
          "parcoords": [
           {
            "line": {
             "colorbar": {
              "outlinewidth": 0,
              "ticks": ""
             }
            },
            "type": "parcoords"
           }
          ],
          "pie": [
           {
            "automargin": true,
            "type": "pie"
           }
          ],
          "scatter": [
           {
            "fillpattern": {
             "fillmode": "overlay",
             "size": 10,
             "solidity": 0.2
            },
            "type": "scatter"
           }
          ],
          "scatter3d": [
           {
            "line": {
             "colorbar": {
              "outlinewidth": 0,
              "ticks": ""
             }
            },
            "marker": {
             "colorbar": {
              "outlinewidth": 0,
              "ticks": ""
             }
            },
            "type": "scatter3d"
           }
          ],
          "scattercarpet": [
           {
            "marker": {
             "colorbar": {
              "outlinewidth": 0,
              "ticks": ""
             }
            },
            "type": "scattercarpet"
           }
          ],
          "scattergeo": [
           {
            "marker": {
             "colorbar": {
              "outlinewidth": 0,
              "ticks": ""
             }
            },
            "type": "scattergeo"
           }
          ],
          "scattergl": [
           {
            "marker": {
             "colorbar": {
              "outlinewidth": 0,
              "ticks": ""
             }
            },
            "type": "scattergl"
           }
          ],
          "scattermapbox": [
           {
            "marker": {
             "colorbar": {
              "outlinewidth": 0,
              "ticks": ""
             }
            },
            "type": "scattermapbox"
           }
          ],
          "scatterpolar": [
           {
            "marker": {
             "colorbar": {
              "outlinewidth": 0,
              "ticks": ""
             }
            },
            "type": "scatterpolar"
           }
          ],
          "scatterpolargl": [
           {
            "marker": {
             "colorbar": {
              "outlinewidth": 0,
              "ticks": ""
             }
            },
            "type": "scatterpolargl"
           }
          ],
          "scatterternary": [
           {
            "marker": {
             "colorbar": {
              "outlinewidth": 0,
              "ticks": ""
             }
            },
            "type": "scatterternary"
           }
          ],
          "surface": [
           {
            "colorbar": {
             "outlinewidth": 0,
             "ticks": ""
            },
            "colorscale": [
             [
              0,
              "#0d0887"
             ],
             [
              0.1111111111111111,
              "#46039f"
             ],
             [
              0.2222222222222222,
              "#7201a8"
             ],
             [
              0.3333333333333333,
              "#9c179e"
             ],
             [
              0.4444444444444444,
              "#bd3786"
             ],
             [
              0.5555555555555556,
              "#d8576b"
             ],
             [
              0.6666666666666666,
              "#ed7953"
             ],
             [
              0.7777777777777778,
              "#fb9f3a"
             ],
             [
              0.8888888888888888,
              "#fdca26"
             ],
             [
              1,
              "#f0f921"
             ]
            ],
            "type": "surface"
           }
          ],
          "table": [
           {
            "cells": {
             "fill": {
              "color": "#EBF0F8"
             },
             "line": {
              "color": "white"
             }
            },
            "header": {
             "fill": {
              "color": "#C8D4E3"
             },
             "line": {
              "color": "white"
             }
            },
            "type": "table"
           }
          ]
         },
         "layout": {
          "annotationdefaults": {
           "arrowcolor": "#2a3f5f",
           "arrowhead": 0,
           "arrowwidth": 1
          },
          "autotypenumbers": "strict",
          "coloraxis": {
           "colorbar": {
            "outlinewidth": 0,
            "ticks": ""
           }
          },
          "colorscale": {
           "diverging": [
            [
             0,
             "#8e0152"
            ],
            [
             0.1,
             "#c51b7d"
            ],
            [
             0.2,
             "#de77ae"
            ],
            [
             0.3,
             "#f1b6da"
            ],
            [
             0.4,
             "#fde0ef"
            ],
            [
             0.5,
             "#f7f7f7"
            ],
            [
             0.6,
             "#e6f5d0"
            ],
            [
             0.7,
             "#b8e186"
            ],
            [
             0.8,
             "#7fbc41"
            ],
            [
             0.9,
             "#4d9221"
            ],
            [
             1,
             "#276419"
            ]
           ],
           "sequential": [
            [
             0,
             "#0d0887"
            ],
            [
             0.1111111111111111,
             "#46039f"
            ],
            [
             0.2222222222222222,
             "#7201a8"
            ],
            [
             0.3333333333333333,
             "#9c179e"
            ],
            [
             0.4444444444444444,
             "#bd3786"
            ],
            [
             0.5555555555555556,
             "#d8576b"
            ],
            [
             0.6666666666666666,
             "#ed7953"
            ],
            [
             0.7777777777777778,
             "#fb9f3a"
            ],
            [
             0.8888888888888888,
             "#fdca26"
            ],
            [
             1,
             "#f0f921"
            ]
           ],
           "sequentialminus": [
            [
             0,
             "#0d0887"
            ],
            [
             0.1111111111111111,
             "#46039f"
            ],
            [
             0.2222222222222222,
             "#7201a8"
            ],
            [
             0.3333333333333333,
             "#9c179e"
            ],
            [
             0.4444444444444444,
             "#bd3786"
            ],
            [
             0.5555555555555556,
             "#d8576b"
            ],
            [
             0.6666666666666666,
             "#ed7953"
            ],
            [
             0.7777777777777778,
             "#fb9f3a"
            ],
            [
             0.8888888888888888,
             "#fdca26"
            ],
            [
             1,
             "#f0f921"
            ]
           ]
          },
          "colorway": [
           "#636efa",
           "#EF553B",
           "#00cc96",
           "#ab63fa",
           "#FFA15A",
           "#19d3f3",
           "#FF6692",
           "#B6E880",
           "#FF97FF",
           "#FECB52"
          ],
          "font": {
           "color": "#2a3f5f"
          },
          "geo": {
           "bgcolor": "white",
           "lakecolor": "white",
           "landcolor": "#E5ECF6",
           "showlakes": true,
           "showland": true,
           "subunitcolor": "white"
          },
          "hoverlabel": {
           "align": "left"
          },
          "hovermode": "closest",
          "mapbox": {
           "style": "light"
          },
          "paper_bgcolor": "white",
          "plot_bgcolor": "#E5ECF6",
          "polar": {
           "angularaxis": {
            "gridcolor": "white",
            "linecolor": "white",
            "ticks": ""
           },
           "bgcolor": "#E5ECF6",
           "radialaxis": {
            "gridcolor": "white",
            "linecolor": "white",
            "ticks": ""
           }
          },
          "scene": {
           "xaxis": {
            "backgroundcolor": "#E5ECF6",
            "gridcolor": "white",
            "gridwidth": 2,
            "linecolor": "white",
            "showbackground": true,
            "ticks": "",
            "zerolinecolor": "white"
           },
           "yaxis": {
            "backgroundcolor": "#E5ECF6",
            "gridcolor": "white",
            "gridwidth": 2,
            "linecolor": "white",
            "showbackground": true,
            "ticks": "",
            "zerolinecolor": "white"
           },
           "zaxis": {
            "backgroundcolor": "#E5ECF6",
            "gridcolor": "white",
            "gridwidth": 2,
            "linecolor": "white",
            "showbackground": true,
            "ticks": "",
            "zerolinecolor": "white"
           }
          },
          "shapedefaults": {
           "line": {
            "color": "#2a3f5f"
           }
          },
          "ternary": {
           "aaxis": {
            "gridcolor": "white",
            "linecolor": "white",
            "ticks": ""
           },
           "baxis": {
            "gridcolor": "white",
            "linecolor": "white",
            "ticks": ""
           },
           "bgcolor": "#E5ECF6",
           "caxis": {
            "gridcolor": "white",
            "linecolor": "white",
            "ticks": ""
           }
          },
          "title": {
           "x": 0.05
          },
          "xaxis": {
           "automargin": true,
           "gridcolor": "white",
           "linecolor": "white",
           "ticks": "",
           "title": {
            "standoff": 15
           },
           "zerolinecolor": "white",
           "zerolinewidth": 2
          },
          "yaxis": {
           "automargin": true,
           "gridcolor": "white",
           "linecolor": "white",
           "ticks": "",
           "title": {
            "standoff": 15
           },
           "zerolinecolor": "white",
           "zerolinewidth": 2
          }
         }
        },
        "title": {
         "text": "Performance of Each Sector per Year in terms of Average Volume"
        },
        "xaxis": {
         "anchor": "y",
         "autorange": true,
         "domain": [
          0,
          1
         ],
         "range": [
          2017.5,
          2023.5
         ],
         "title": {
          "text": "Year"
         },
         "type": "linear"
        },
        "yaxis": {
         "anchor": "x",
         "autorange": true,
         "domain": [
          0,
          1
         ],
         "range": [
          0,
          41092548.27634382
         ],
         "title": {
          "text": "Average Volume"
         },
         "type": "linear"
        }
       }
      },
      "image/png": "[encoded data removed]",
      "text/html": [
       "<div>                            <div id=\"8ef6e483-f7ed-49ab-961e-fa1ece7957b9\" class=\"plotly-graph-div\" style=\"height:500px; width:100%;\"></div>            <script type=\"text/javascript\">                require([\"plotly\"], function(Plotly) {                    window.PLOTLYENV=window.PLOTLYENV || {};                                    if (document.getElementById(\"8ef6e483-f7ed-49ab-961e-fa1ece7957b9\")) {                    Plotly.newPlot(                        \"8ef6e483-f7ed-49ab-961e-fa1ece7957b9\",                        [{\"alignmentgroup\":\"True\",\"hovertemplate\":\"<b>%{y}</b> Volume<br>%{x} Year\",\"legendgroup\":\"Automobiles\",\"marker\":{\"color\":\"#636efa\",\"pattern\":{\"shape\":\"\"}},\"name\":\"Automobiles\",\"offsetgroup\":\"Automobiles\",\"orientation\":\"v\",\"showlegend\":true,\"textposition\":\"auto\",\"x\":[2018,2019,2020,2021,2022,2023],\"xaxis\":\"x\",\"y\":[11417629.790941497,9321530.947786132,13213196.95340129,13030696.907894736,18356610.90674974,19655790.746336207],\"yaxis\":\"y\",\"type\":\"bar\"},{\"alignmentgroup\":\"True\",\"hovertemplate\":\"<b>%{y}</b> Volume<br>%{x} Year\",\"legendgroup\":\"Finance\",\"marker\":{\"color\":\"#EF553B\",\"pattern\":{\"shape\":\"\"}},\"name\":\"Finance\",\"offsetgroup\":\"Finance\",\"orientation\":\"v\",\"showlegend\":true,\"textposition\":\"auto\",\"x\":[2018,2019,2020,2021,2022,2023],\"xaxis\":\"x\",\"y\":[2900699.776682743,2593409.8980785296,3578389.007905138,2658926.412926391,2489819.8609561753,2225249.891774892],\"yaxis\":\"y\",\"type\":\"bar\"},{\"alignmentgroup\":\"True\",\"hovertemplate\":\"<b>%{y}</b> Volume<br>%{x} Year\",\"legendgroup\":\"Technology\",\"marker\":{\"color\":\"#00cc96\",\"pattern\":{\"shape\":\"\"}},\"name\":\"Technology\",\"offsetgroup\":\"Technology\",\"orientation\":\"v\",\"showlegend\":true,\"textposition\":\"auto\",\"x\":[2018,2019,2020,2021,2022,2023],\"xaxis\":\"x\",\"y\":[12876693.535482476,10588375.991854636,13993239.436616875,13373539.329960318,18191490.094820715,14706156.75862069],\"yaxis\":\"y\",\"type\":\"bar\"}],                        {\"template\":{\"data\":{\"histogram2dcontour\":[{\"type\":\"histogram2dcontour\",\"colorbar\":{\"outlinewidth\":0,\"ticks\":\"\"},\"colorscale\":[[0.0,\"#0d0887\"],[0.1111111111111111,\"#46039f\"],[0.2222222222222222,\"#7201a8\"],[0.3333333333333333,\"#9c179e\"],[0.4444444444444444,\"#bd3786\"],[0.5555555555555556,\"#d8576b\"],[0.6666666666666666,\"#ed7953\"],[0.7777777777777778,\"#fb9f3a\"],[0.8888888888888888,\"#fdca26\"],[1.0,\"#f0f921\"]]}],\"choropleth\":[{\"type\":\"choropleth\",\"colorbar\":{\"outlinewidth\":0,\"ticks\":\"\"}}],\"histogram2d\":[{\"type\":\"histogram2d\",\"colorbar\":{\"outlinewidth\":0,\"ticks\":\"\"},\"colorscale\":[[0.0,\"#0d0887\"],[0.1111111111111111,\"#46039f\"],[0.2222222222222222,\"#7201a8\"],[0.3333333333333333,\"#9c179e\"],[0.4444444444444444,\"#bd3786\"],[0.5555555555555556,\"#d8576b\"],[0.6666666666666666,\"#ed7953\"],[0.7777777777777778,\"#fb9f3a\"],[0.8888888888888888,\"#fdca26\"],[1.0,\"#f0f921\"]]}],\"heatmap\":[{\"type\":\"heatmap\",\"colorbar\":{\"outlinewidth\":0,\"ticks\":\"\"},\"colorscale\":[[0.0,\"#0d0887\"],[0.1111111111111111,\"#46039f\"],[0.2222222222222222,\"#7201a8\"],[0.3333333333333333,\"#9c179e\"],[0.4444444444444444,\"#bd3786\"],[0.5555555555555556,\"#d8576b\"],[0.6666666666666666,\"#ed7953\"],[0.7777777777777778,\"#fb9f3a\"],[0.8888888888888888,\"#fdca26\"],[1.0,\"#f0f921\"]]}],\"heatmapgl\":[{\"type\":\"heatmapgl\",\"colorbar\":{\"outlinewidth\":0,\"ticks\":\"\"},\"colorscale\":[[0.0,\"#0d0887\"],[0.1111111111111111,\"#46039f\"],[0.2222222222222222,\"#7201a8\"],[0.3333333333333333,\"#9c179e\"],[0.4444444444444444,\"#bd3786\"],[0.5555555555555556,\"#d8576b\"],[0.6666666666666666,\"#ed7953\"],[0.7777777777777778,\"#fb9f3a\"],[0.8888888888888888,\"#fdca26\"],[1.0,\"#f0f921\"]]}],\"contourcarpet\":[{\"type\":\"contourcarpet\",\"colorbar\":{\"outlinewidth\":0,\"ticks\":\"\"}}],\"contour\":[{\"type\":\"contour\",\"colorbar\":{\"outlinewidth\":0,\"ticks\":\"\"},\"colorscale\":[[0.0,\"#0d0887\"],[0.1111111111111111,\"#46039f\"],[0.2222222222222222,\"#7201a8\"],[0.3333333333333333,\"#9c179e\"],[0.4444444444444444,\"#bd3786\"],[0.5555555555555556,\"#d8576b\"],[0.6666666666666666,\"#ed7953\"],[0.7777777777777778,\"#fb9f3a\"],[0.8888888888888888,\"#fdca26\"],[1.0,\"#f0f921\"]]}],\"surface\":[{\"type\":\"surface\",\"colorbar\":{\"outlinewidth\":0,\"ticks\":\"\"},\"colorscale\":[[0.0,\"#0d0887\"],[0.1111111111111111,\"#46039f\"],[0.2222222222222222,\"#7201a8\"],[0.3333333333333333,\"#9c179e\"],[0.4444444444444444,\"#bd3786\"],[0.5555555555555556,\"#d8576b\"],[0.6666666666666666,\"#ed7953\"],[0.7777777777777778,\"#fb9f3a\"],[0.8888888888888888,\"#fdca26\"],[1.0,\"#f0f921\"]]}],\"mesh3d\":[{\"type\":\"mesh3d\",\"colorbar\":{\"outlinewidth\":0,\"ticks\":\"\"}}],\"scatter\":[{\"fillpattern\":{\"fillmode\":\"overlay\",\"size\":10,\"solidity\":0.2},\"type\":\"scatter\"}],\"parcoords\":[{\"type\":\"parcoords\",\"line\":{\"colorbar\":{\"outlinewidth\":0,\"ticks\":\"\"}}}],\"scatterpolargl\":[{\"type\":\"scatterpolargl\",\"marker\":{\"colorbar\":{\"outlinewidth\":0,\"ticks\":\"\"}}}],\"bar\":[{\"error_x\":{\"color\":\"#2a3f5f\"},\"error_y\":{\"color\":\"#2a3f5f\"},\"marker\":{\"line\":{\"color\":\"#E5ECF6\",\"width\":0.5},\"pattern\":{\"fillmode\":\"overlay\",\"size\":10,\"solidity\":0.2}},\"type\":\"bar\"}],\"scattergeo\":[{\"type\":\"scattergeo\",\"marker\":{\"colorbar\":{\"outlinewidth\":0,\"ticks\":\"\"}}}],\"scatterpolar\":[{\"type\":\"scatterpolar\",\"marker\":{\"colorbar\":{\"outlinewidth\":0,\"ticks\":\"\"}}}],\"histogram\":[{\"marker\":{\"pattern\":{\"fillmode\":\"overlay\",\"size\":10,\"solidity\":0.2}},\"type\":\"histogram\"}],\"scattergl\":[{\"type\":\"scattergl\",\"marker\":{\"colorbar\":{\"outlinewidth\":0,\"ticks\":\"\"}}}],\"scatter3d\":[{\"type\":\"scatter3d\",\"line\":{\"colorbar\":{\"outlinewidth\":0,\"ticks\":\"\"}},\"marker\":{\"colorbar\":{\"outlinewidth\":0,\"ticks\":\"\"}}}],\"scattermapbox\":[{\"type\":\"scattermapbox\",\"marker\":{\"colorbar\":{\"outlinewidth\":0,\"ticks\":\"\"}}}],\"scatterternary\":[{\"type\":\"scatterternary\",\"marker\":{\"colorbar\":{\"outlinewidth\":0,\"ticks\":\"\"}}}],\"scattercarpet\":[{\"type\":\"scattercarpet\",\"marker\":{\"colorbar\":{\"outlinewidth\":0,\"ticks\":\"\"}}}],\"carpet\":[{\"aaxis\":{\"endlinecolor\":\"#2a3f5f\",\"gridcolor\":\"white\",\"linecolor\":\"white\",\"minorgridcolor\":\"white\",\"startlinecolor\":\"#2a3f5f\"},\"baxis\":{\"endlinecolor\":\"#2a3f5f\",\"gridcolor\":\"white\",\"linecolor\":\"white\",\"minorgridcolor\":\"white\",\"startlinecolor\":\"#2a3f5f\"},\"type\":\"carpet\"}],\"table\":[{\"cells\":{\"fill\":{\"color\":\"#EBF0F8\"},\"line\":{\"color\":\"white\"}},\"header\":{\"fill\":{\"color\":\"#C8D4E3\"},\"line\":{\"color\":\"white\"}},\"type\":\"table\"}],\"barpolar\":[{\"marker\":{\"line\":{\"color\":\"#E5ECF6\",\"width\":0.5},\"pattern\":{\"fillmode\":\"overlay\",\"size\":10,\"solidity\":0.2}},\"type\":\"barpolar\"}],\"pie\":[{\"automargin\":true,\"type\":\"pie\"}]},\"layout\":{\"autotypenumbers\":\"strict\",\"colorway\":[\"#636efa\",\"#EF553B\",\"#00cc96\",\"#ab63fa\",\"#FFA15A\",\"#19d3f3\",\"#FF6692\",\"#B6E880\",\"#FF97FF\",\"#FECB52\"],\"font\":{\"color\":\"#2a3f5f\"},\"hovermode\":\"closest\",\"hoverlabel\":{\"align\":\"left\"},\"paper_bgcolor\":\"white\",\"plot_bgcolor\":\"#E5ECF6\",\"polar\":{\"bgcolor\":\"#E5ECF6\",\"angularaxis\":{\"gridcolor\":\"white\",\"linecolor\":\"white\",\"ticks\":\"\"},\"radialaxis\":{\"gridcolor\":\"white\",\"linecolor\":\"white\",\"ticks\":\"\"}},\"ternary\":{\"bgcolor\":\"#E5ECF6\",\"aaxis\":{\"gridcolor\":\"white\",\"linecolor\":\"white\",\"ticks\":\"\"},\"baxis\":{\"gridcolor\":\"white\",\"linecolor\":\"white\",\"ticks\":\"\"},\"caxis\":{\"gridcolor\":\"white\",\"linecolor\":\"white\",\"ticks\":\"\"}},\"coloraxis\":{\"colorbar\":{\"outlinewidth\":0,\"ticks\":\"\"}},\"colorscale\":{\"sequential\":[[0.0,\"#0d0887\"],[0.1111111111111111,\"#46039f\"],[0.2222222222222222,\"#7201a8\"],[0.3333333333333333,\"#9c179e\"],[0.4444444444444444,\"#bd3786\"],[0.5555555555555556,\"#d8576b\"],[0.6666666666666666,\"#ed7953\"],[0.7777777777777778,\"#fb9f3a\"],[0.8888888888888888,\"#fdca26\"],[1.0,\"#f0f921\"]],\"sequentialminus\":[[0.0,\"#0d0887\"],[0.1111111111111111,\"#46039f\"],[0.2222222222222222,\"#7201a8\"],[0.3333333333333333,\"#9c179e\"],[0.4444444444444444,\"#bd3786\"],[0.5555555555555556,\"#d8576b\"],[0.6666666666666666,\"#ed7953\"],[0.7777777777777778,\"#fb9f3a\"],[0.8888888888888888,\"#fdca26\"],[1.0,\"#f0f921\"]],\"diverging\":[[0,\"#8e0152\"],[0.1,\"#c51b7d\"],[0.2,\"#de77ae\"],[0.3,\"#f1b6da\"],[0.4,\"#fde0ef\"],[0.5,\"#f7f7f7\"],[0.6,\"#e6f5d0\"],[0.7,\"#b8e186\"],[0.8,\"#7fbc41\"],[0.9,\"#4d9221\"],[1,\"#276419\"]]},\"xaxis\":{\"gridcolor\":\"white\",\"linecolor\":\"white\",\"ticks\":\"\",\"title\":{\"standoff\":15},\"zerolinecolor\":\"white\",\"automargin\":true,\"zerolinewidth\":2},\"yaxis\":{\"gridcolor\":\"white\",\"linecolor\":\"white\",\"ticks\":\"\",\"title\":{\"standoff\":15},\"zerolinecolor\":\"white\",\"automargin\":true,\"zerolinewidth\":2},\"scene\":{\"xaxis\":{\"backgroundcolor\":\"#E5ECF6\",\"gridcolor\":\"white\",\"linecolor\":\"white\",\"showbackground\":true,\"ticks\":\"\",\"zerolinecolor\":\"white\",\"gridwidth\":2},\"yaxis\":{\"backgroundcolor\":\"#E5ECF6\",\"gridcolor\":\"white\",\"linecolor\":\"white\",\"showbackground\":true,\"ticks\":\"\",\"zerolinecolor\":\"white\",\"gridwidth\":2},\"zaxis\":{\"backgroundcolor\":\"#E5ECF6\",\"gridcolor\":\"white\",\"linecolor\":\"white\",\"showbackground\":true,\"ticks\":\"\",\"zerolinecolor\":\"white\",\"gridwidth\":2}},\"shapedefaults\":{\"line\":{\"color\":\"#2a3f5f\"}},\"annotationdefaults\":{\"arrowcolor\":\"#2a3f5f\",\"arrowhead\":0,\"arrowwidth\":1},\"geo\":{\"bgcolor\":\"white\",\"landcolor\":\"#E5ECF6\",\"subunitcolor\":\"white\",\"showland\":true,\"showlakes\":true,\"lakecolor\":\"white\"},\"title\":{\"x\":0.05},\"mapbox\":{\"style\":\"light\"}}},\"xaxis\":{\"anchor\":\"y\",\"domain\":[0.0,1.0],\"title\":{\"text\":\"Year\"}},\"yaxis\":{\"anchor\":\"x\",\"domain\":[0.0,1.0],\"title\":{\"text\":\"Average Volume\"}},\"legend\":{\"title\":{\"text\":\"Sector\"},\"tracegroupgap\":0},\"title\":{\"text\":\"Performance of Each Sector per Year in terms of Average Volume\"},\"barmode\":\"relative\",\"height\":500},                        {\"responsive\": true}                    ).then(function(){\n",
       "                            \n",
       "var gd = document.getElementById('8ef6e483-f7ed-49ab-961e-fa1ece7957b9');\n",
       "var x = new MutationObserver(function (mutations, observer) {{\n",
       "        var display = window.getComputedStyle(gd).display;\n",
       "        if (!display || display === 'none') {{\n",
       "            console.log([gd, 'removed!']);\n",
       "            Plotly.purge(gd);\n",
       "            observer.disconnect();\n",
       "        }}\n",
       "}});\n",
       "\n",
       "// Listen for the removal of the full notebook cells\n",
       "var notebookContainer = gd.closest('#notebook-container');\n",
       "if (notebookContainer) {{\n",
       "    x.observe(notebookContainer, {childList: true});\n",
       "}}\n",
       "\n",
       "// Listen for the clearing of the current output cell\n",
       "var outputEl = gd.closest('.output');\n",
       "if (outputEl) {{\n",
       "    x.observe(outputEl, {childList: true});\n",
       "}}\n",
       "\n",
       "                        })                };                });            </script>        </div>"
      ]
     },
     "metadata": {},
     "output_type": "display_data"
    }
   ],
   "source": [
    "import plotly.express as px\n",
    "\n",
    "# Assuming merged_df is your combined data frame\n",
    "\n",
    "# Create a bar graph with hover functionality using plotly express\n",
    "fig = px.bar(\n",
    "    grouped_df,\n",
    "    x='Year',\n",
    "    y='Volume',\n",
    "    color='Sector',\n",
    "    labels={'Volume': 'Average Volume'},\n",
    "    title='Performance of Each Sector per Year in terms of Average Volume',\n",
    "    height=500,\n",
    ")\n",
    "\n",
    "# Add hover data\n",
    "fig.update_traces(\n",
    "    hovertemplate='<b>%{y}</b> Volume<br>%{x} Year'\n",
    ")\n",
    "\n",
    "# Show the plot\n",
    "fig.show()\n",
    "fig.write_image(\"graph.png\")"
   ]
  },
  {
   "cell_type": "code",
   "execution_count": null,
   "id": "ca0bd7ff-a2c8-405c-b3e4-623710fdab59",
   "metadata": {},
   "outputs": [],
   "source": []
  }
 ],
 "metadata": {
  "kernelspec": {
   "display_name": "Python 3 (ipykernel)",
   "language": "python",
   "name": "python3"
  },
  "language_info": {
   "codemirror_mode": {
    "name": "ipython",
    "version": 3
   },
   "file_extension": ".py",
   "mimetype": "text/x-python",
   "name": "python",
   "nbconvert_exporter": "python",
   "pygments_lexer": "ipython3",
   "version": "3.11.5"
  }
 },
 "nbformat": 4,
 "nbformat_minor": 5
}
