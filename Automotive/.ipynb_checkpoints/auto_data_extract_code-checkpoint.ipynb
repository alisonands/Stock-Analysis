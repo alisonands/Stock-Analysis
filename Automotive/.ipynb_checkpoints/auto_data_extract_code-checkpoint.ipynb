{
 "cells": [
  {
   "cell_type": "code",
   "execution_count": 1,
   "id": "e383a479-cac8-436a-821e-929cba2e674c",
   "metadata": {},
   "outputs": [],
   "source": [
    "# Import dependencies\n",
    "from alpha_vantage.timeseries import TimeSeries\n",
    "import sys\n",
    "import pandas as pd\n",
    "from config import api_key"
   ]
  },
  {
   "cell_type": "code",
   "execution_count": 2,
   "id": "9179b6e4-55ed-4079-9c71-c3b978708980",
   "metadata": {},
   "outputs": [],
   "source": [
    "whole_data = []\n",
    "tickers = [\"CPRT\", \"KMX\", \"PAG\", \"LAD\", \"AN\", \"MBLY\", \"APTV\", \"MGA\", \"LKQ\", \"ALV\", \"TSLA\", \"TM\", \"HMC\", \"GM\", \"F\", \"NVDA\", \"TSM\", \"AVGO\", \"AMD\", \"INTC\" ]\n",
    "\n",
    "for ticker in tickers:\n",
    "    ts = TimeSeries(key= api_key, output_format='pandas')\n",
    "    data, meta_data = ts.get_daily(symbol=ticker, outputsize='full')\n",
    "    data_df = pd.DataFrame(data)\n",
    "    data_df = data_df.sort_index()\n",
    "\n",
    "# Set the 'date' column as the index\n",
    "    start_date = '2017-12-31'\n",
    "    end_date = '2023-12-04'\n",
    "    filtered_data = pd.DataFrame(data_df.loc[start_date:end_date])\n",
    "    \n",
    "    filtered_data[\"Ticker\"] = ticker\n",
    "    # filtered_data[\"Industry\"] = \"Automotive\"\n",
    "    \n",
    "    whole_data.append(filtered_data)"
   ]
  },
  {
   "cell_type": "code",
   "execution_count": 3,
   "id": "d213f95b-26eb-48ce-bd1c-daf05f1153c4",
   "metadata": {},
   "outputs": [],
   "source": [
    "final_data = pd.concat(whole_data)\n",
    "final_data.to_csv('raw_auto_stock_data.csv', index=True)"
   ]
  },
  {
   "cell_type": "code",
   "execution_count": 4,
   "id": "5fabfa55-b532-4b4b-9ef9-68eeba6fdd4f",
   "metadata": {},
   "outputs": [],
   "source": [
    "data_df = pd.read_csv(\"raw_auto_stock_data.csv\")\n",
    "# data_df"
   ]
  },
  {
   "cell_type": "code",
   "execution_count": 5,
   "id": "2f989829-4b07-4047-be14-603f324b84e9",
   "metadata": {},
   "outputs": [],
   "source": [
    "ticker_industry_mapping = {\"CPRT\":\"Auto & Truck Dealerships\", \n",
    "                           \"KMX\":\"Auto & Truck Dealerships\", \n",
    "                           \"PAG\":\"Auto & Truck Dealerships\", \n",
    "                           \"LAD\":\"Auto & Truck Dealerships\", \n",
    "                           \"AN\":\"Auto & Truck Dealerships\", \n",
    "                           \"MBLY\":\"Auto Parts\", \n",
    "                           \"APTV\":\"Auto Parts\", \n",
    "                           \"MGA\":\"Auto Parts\", \n",
    "                           \"LKQ\":\"Auto Parts\", \n",
    "                           \"ALV\":\"Auto Parts\", \n",
    "                           \"TSLA\":\"Auto Manufacturers\", \n",
    "                           \"TM\":\"Auto Manufacturers\", \n",
    "                           \"HMC\":\"Auto Manufacturers\", \n",
    "                           \"GM\":\"Auto Manufacturers\", \n",
    "                           \"F\":\"Auto Manufacturers\", \n",
    "                           \"NVDA\":\"Semiconductors\", \n",
    "                           \"TSM\":\"Semiconductors\", \n",
    "                           \"AVGO\":\"Semiconductors\", \n",
    "                           \"AMD\":\"Semiconductors\", \n",
    "                           \"INTC\":\"Semiconductors\"}"
   ]
  },
  {
   "cell_type": "code",
   "execution_count": 6,
   "id": "e27e020b-8b40-4ab5-a023-d8fa1c99c0e8",
   "metadata": {},
   "outputs": [],
   "source": [
    "data_df[\"Industry\"] = data_df[\"Ticker\"].map(ticker_industry_mapping)\n",
    "data_df[\"Sector\"] = \"Automobiles\""
   ]
  },
  {
   "cell_type": "code",
   "execution_count": 7,
   "id": "95d375a3-39a2-4c85-b1f4-ecddd58edc25",
   "metadata": {},
   "outputs": [],
   "source": [
    "data_df = data_df.rename(columns={'1. open': 'Open', \n",
    "                                  '2. high': 'High', \n",
    "                                  '3. low': 'Low', \n",
    "                                  '4. close': 'Close', \n",
    "                                  '5. volume': 'Volume',\n",
    "                                 \"date\": \"Date\"\n",
    "                                 })"
   ]
  },
  {
   "cell_type": "code",
   "execution_count": 8,
   "id": "e67849ce-2521-49fa-9c48-cea1c2f8cb1f",
   "metadata": {},
   "outputs": [],
   "source": [
    "final_df = data_df[[\"Date\", \"Ticker\", \"Sector\", \"Industry\", \"Open\", \"High\", \"Low\", \"Close\", \"Volume\"]]"
   ]
  },
  {
   "cell_type": "code",
   "execution_count": 9,
   "id": "d58e50c7-a0b7-43a4-a7c2-25bd04e0c2d6",
   "metadata": {},
   "outputs": [],
   "source": [
    "final_df.to_csv('../Datasets/Auto_stock_data.csv', index=False)"
   ]
  }
 ],
 "metadata": {
  "kernelspec": {
   "display_name": "Python 3 (ipykernel)",
   "language": "python",
   "name": "python3"
  },
  "language_info": {
   "codemirror_mode": {
    "name": "ipython",
    "version": 3
   },
   "file_extension": ".py",
   "mimetype": "text/x-python",
   "name": "python",
   "nbconvert_exporter": "python",
   "pygments_lexer": "ipython3",
   "version": "3.11.5"
  }
 },
 "nbformat": 4,
 "nbformat_minor": 5
}
