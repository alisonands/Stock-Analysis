{
 "cells": [
  {
   "cell_type": "code",
   "execution_count": 2,
   "id": "db662a79",
   "metadata": {},
   "outputs": [
    {
     "ename": "NameError",
     "evalue": "name 'api_key' is not defined",
     "output_type": "error",
     "traceback": [
      "\u001b[1;31m---------------------------------------------------------------------------\u001b[0m",
      "\u001b[1;31mNameError\u001b[0m                                 Traceback (most recent call last)",
      "Cell \u001b[1;32mIn[2], line 11\u001b[0m\n\u001b[0;32m      8\u001b[0m symbols \u001b[38;5;241m=\u001b[39m [\u001b[38;5;124m\"\u001b[39m\u001b[38;5;124mISRG\u001b[39m\u001b[38;5;124m\"\u001b[39m]\n\u001b[0;32m     10\u001b[0m \u001b[38;5;28;01mfor\u001b[39;00m symbol \u001b[38;5;129;01min\u001b[39;00m symbols:\n\u001b[1;32m---> 11\u001b[0m     ts \u001b[38;5;241m=\u001b[39m TimeSeries(key\u001b[38;5;241m=\u001b[39m api_key, output_format\u001b[38;5;241m=\u001b[39m\u001b[38;5;124m'\u001b[39m\u001b[38;5;124mpandas\u001b[39m\u001b[38;5;124m'\u001b[39m)\n\u001b[0;32m     12\u001b[0m     data, meta_data \u001b[38;5;241m=\u001b[39m ts\u001b[38;5;241m.\u001b[39mget_daily(symbol\u001b[38;5;241m=\u001b[39msymbol, outputsize\u001b[38;5;241m=\u001b[39m\u001b[38;5;124m'\u001b[39m\u001b[38;5;124mfull\u001b[39m\u001b[38;5;124m'\u001b[39m)\n\u001b[0;32m     13\u001b[0m     data_df \u001b[38;5;241m=\u001b[39m pd\u001b[38;5;241m.\u001b[39mDataFrame(data)\n",
      "\u001b[1;31mNameError\u001b[0m: name 'api_key' is not defined"
     ]
    }
   ],
   "source": [
    "from alpha_vantage.timeseries import TimeSeries\n",
    "import matplotlib.pyplot as plt\n",
    "import sys\n",
    "import pandas as pd\n",
    "\n",
    "whole_data = []\n",
    "\n",
    "symbols = [\"ISRG\"]\n",
    "\n",
    "for symbol in symbols:\n",
    "    ts = TimeSeries(key= api_key, output_format='pandas')\n",
    "    data, meta_data = ts.get_daily(symbol=symbol, outputsize='full')\n",
    "    data_df = pd.DataFrame(data)\n",
    "    \n",
    "# data_df.info()\n",
    "    data_df = data_df.sort_index()\n",
    "    \n",
    "# Set the 'date' column as the index\n",
    "    start_date = '2018-01-01'\n",
    "    end_date = '2023-12-04'\n",
    "    \n",
    "    filtered_data = pd.DataFrame(data_df.loc[start_date:end_date])\n",
    "# stock_data = data_date_changed\n",
    "\n",
    "    filtered_data[\"Ticker\"] = symbol\n",
    "    whole_data.append(filtered_data)\n",
    "    \n",
    "print(whole_data)"
   ]
  },
  {
   "cell_type": "code",
   "execution_count": null,
   "id": "5900c09c",
   "metadata": {},
   "outputs": [],
   "source": []
  }
 ],
 "metadata": {
  "kernelspec": {
   "display_name": "Python 3 (ipykernel)",
   "language": "python",
   "name": "python3"
  },
  "language_info": {
   "codemirror_mode": {
    "name": "ipython",
    "version": 3
   },
   "file_extension": ".py",
   "mimetype": "text/x-python",
   "name": "python",
   "nbconvert_exporter": "python",
   "pygments_lexer": "ipython3",
   "version": "3.11.5"
  }
 },
 "nbformat": 4,
 "nbformat_minor": 5
}
