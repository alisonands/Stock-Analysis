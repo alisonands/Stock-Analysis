{
 "cells": [
  {
   "cell_type": "markdown",
   "metadata": {},
   "source": [
    "# Graphs\n",
    "1. Closing price (Line chart, 4 graphs (top performing stock per industry))\n",
    "2. Volume (% total volume Pie chart, industry)\n",
    "3. correlation (open prices, between sectors)\n",
    "4. Grouped bargraph: price values per sector (xlabel: sectors) --> moving average (1 graph)\n",
    "\n",
    "5. compare close price and volume (for industries with most correlation)\n",
    "6. compare industries btwn sectors (4x4)\n",
    "7. highest % change per month comparison\n"
   ]
  }
 ],
 "metadata": {
  "language_info": {
   "name": "python"
  }
 },
 "nbformat": 4,
 "nbformat_minor": 2
}
